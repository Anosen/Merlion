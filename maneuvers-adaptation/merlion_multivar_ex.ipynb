{
 "cells": [
  {
   "cell_type": "markdown",
   "metadata": {},
   "source": [
    "# Multivariate Time Series Anomaly Detection Example"
   ]
  },
  {
   "cell_type": "markdown",
   "metadata": {},
   "source": [
    "Multivariate time series anomaly detection works in largely the same way as univariate time series anomaly detection (covered here and here).\n",
    "\n",
    "To begin, we will load the multivariate MSL dataset for time series anomaly detection."
   ]
  },
  {
   "cell_type": "code",
   "execution_count": 4,
   "metadata": {},
   "outputs": [
    {
     "name": "stdout",
     "output_type": "stream",
     "text": [
      "Time series is 55-dimensional\n"
     ]
    },
    {
     "data": {
      "text/plain": [
       "                            0    1    2    3    4    5    6    7    8    9  \\\n",
       "time                                                                         \n",
       "1970-01-01 00:00:00  2.146646  0.0  0.0  0.0  0.0  0.0  0.0  0.0  0.0  0.0   \n",
       "1970-01-01 00:01:00  2.146646  0.0  0.0  0.0  0.0  0.0  0.0  0.0  0.0  0.0   \n",
       "1970-01-01 00:02:00  2.146646  0.0  0.0  0.0  0.0  1.0  0.0  0.0  0.0  0.0   \n",
       "1970-01-01 00:03:00  2.151326  0.0  0.0  0.0  0.0  0.0  0.0  0.0  0.0  0.0   \n",
       "1970-01-01 00:04:00  2.163807  0.0  0.0  0.0  0.0  0.0  0.0  0.0  0.0  0.0   \n",
       "...                       ...  ...  ...  ...  ...  ...  ...  ...  ...  ...   \n",
       "1970-02-10 11:52:00  0.333338  0.0  0.0  0.0  0.0  0.0  0.0  0.0  0.0  0.0   \n",
       "1970-02-10 11:53:00  0.333338  0.0  0.0  0.0  0.0  0.0  0.0  0.0  0.0  0.0   \n",
       "1970-02-10 11:54:00  0.333338  0.0  0.0  0.0  0.0  0.0  0.0  0.0  0.0  0.0   \n",
       "1970-02-10 11:55:00  0.333338  0.0  0.0  0.0  0.0  0.0  0.0  0.0  0.0  0.0   \n",
       "1970-02-10 11:56:00  0.333338  0.0  0.0  0.0  0.0  0.0  0.0  0.0  0.0  0.0   \n",
       "\n",
       "                     ...   45   46   47   48   49   50   51   52   53   54  \n",
       "time                 ...                                                    \n",
       "1970-01-01 00:00:00  ...  0.0  0.0  0.0  0.0  0.0  0.0  0.0  0.0  0.0  0.0  \n",
       "1970-01-01 00:01:00  ...  0.0  0.0  0.0  0.0  0.0  0.0  0.0  0.0  0.0  0.0  \n",
       "1970-01-01 00:02:00  ...  0.0  0.0  0.0  0.0  0.0  0.0  0.0  0.0  0.0  0.0  \n",
       "1970-01-01 00:03:00  ...  0.0  0.0  0.0  0.0  0.0  0.0  0.0  0.0  0.0  0.0  \n",
       "1970-01-01 00:04:00  ...  0.0  0.0  0.0  0.0  0.0  0.0  0.0  0.0  0.0  0.0  \n",
       "...                  ...  ...  ...  ...  ...  ...  ...  ...  ...  ...  ...  \n",
       "1970-02-10 11:52:00  ...  0.0  0.0  0.0  0.0  0.0  0.0  0.0  0.0  0.0  0.0  \n",
       "1970-02-10 11:53:00  ...  0.0  0.0  0.0  0.0  0.0  0.0  0.0  0.0  0.0  0.0  \n",
       "1970-02-10 11:54:00  ...  0.0  0.0  0.0  0.0  0.0  0.0  0.0  0.0  0.0  0.0  \n",
       "1970-02-10 11:55:00  ...  0.0  0.0  0.0  0.0  0.0  0.0  0.0  0.0  0.0  0.0  \n",
       "1970-02-10 11:56:00  ...  0.0  0.0  0.0  0.0  0.0  0.0  0.0  0.0  0.0  0.0  \n",
       "\n",
       "[58317 rows x 55 columns]"
      ]
     },
     "metadata": {},
     "output_type": "display_data"
    }
   ],
   "source": [
    "from merlion.utils import TimeSeries\n",
    "from ts_datasets.anomaly import MSL\n",
    "\n",
    "time_series, metadata = MSL()[0]\n",
    "train_data = TimeSeries.from_pd(time_series[metadata.trainval])\n",
    "test_data = TimeSeries.from_pd(time_series[~metadata.trainval])\n",
    "test_labels = TimeSeries.from_pd(metadata.anomaly[~metadata.trainval])\n",
    "\n",
    "print(f\"Time series is {train_data.dim}-dimensional\")\n",
    "\n",
    "display(train_data)"
   ]
  },
  {
   "cell_type": "code",
   "execution_count": 2,
   "metadata": {},
   "outputs": [],
   "source": [
    "# We initialize models using the model factory in this tutorial\n",
    "# We manually set the detection threshold to 2 (in standard deviation units) for all models\n",
    "from merlion.models.factory import ModelFactory\n",
    "from merlion.post_process.threshold import AggregateAlarms\n",
    "\n",
    "model = ModelFactory.create(\"IsolationForest\",\n",
    "                             threshold=AggregateAlarms(alm_threshold=2))\n",
    "\n",
    "train_scores = model.train(train_data)"
   ]
  },
  {
   "cell_type": "code",
   "execution_count": 5,
   "metadata": {},
   "outputs": [
    {
     "name": "stdout",
     "output_type": "stream",
     "text": [
      "IsolationForest\n",
      "Precision: 0.9638\n",
      "Recall:    0.8192\n",
      "F1:        0.8856\n",
      "MTTD:      0 days 01:40:57\n",
      "\n"
     ]
    },
    {
     "ename": "AssertionError",
     "evalue": "Plotting only supported for univariate time series, but got atime series of dimension 55",
     "output_type": "error",
     "traceback": [
      "\u001b[0;31m---------------------------------------------------------------------------\u001b[0m",
      "\u001b[0;31mAssertionError\u001b[0m                            Traceback (most recent call last)",
      "\u001b[1;32m/root/dev/ts-anomaly-detection/merlion_multivar_ex.ipynb Cell 5\u001b[0m line \u001b[0;36m1\n\u001b[1;32m     <a href='vscode-notebook-cell://wsl%2Bdebian_sys843/root/dev/ts-anomaly-detection/merlion_multivar_ex.ipynb#X13sdnNjb2RlLXJlbW90ZQ%3D%3D?line=13'>14</a>\u001b[0m \u001b[39mprint\u001b[39m(\u001b[39mf\u001b[39m\u001b[39m\"\u001b[39m\u001b[39mMTTD:      \u001b[39m\u001b[39m{\u001b[39;00mmttd\u001b[39m}\u001b[39;00m\u001b[39m\"\u001b[39m)\n\u001b[1;32m     <a href='vscode-notebook-cell://wsl%2Bdebian_sys843/root/dev/ts-anomaly-detection/merlion_multivar_ex.ipynb#X13sdnNjb2RlLXJlbW90ZQ%3D%3D?line=14'>15</a>\u001b[0m \u001b[39mprint\u001b[39m()\n\u001b[0;32m---> <a href='vscode-notebook-cell://wsl%2Bdebian_sys843/root/dev/ts-anomaly-detection/merlion_multivar_ex.ipynb#X13sdnNjb2RlLXJlbW90ZQ%3D%3D?line=16'>17</a>\u001b[0m fig, ax \u001b[39m=\u001b[39m model\u001b[39m.\u001b[39;49mplot_anomaly(time_series\u001b[39m=\u001b[39;49mtest_data)\n\u001b[1;32m     <a href='vscode-notebook-cell://wsl%2Bdebian_sys843/root/dev/ts-anomaly-detection/merlion_multivar_ex.ipynb#X13sdnNjb2RlLXJlbW90ZQ%3D%3D?line=17'>18</a>\u001b[0m plot_anoms(ax\u001b[39m=\u001b[39max, anomaly_labels\u001b[39m=\u001b[39mtest_labels)\n\u001b[1;32m     <a href='vscode-notebook-cell://wsl%2Bdebian_sys843/root/dev/ts-anomaly-detection/merlion_multivar_ex.ipynb#X13sdnNjb2RlLXJlbW90ZQ%3D%3D?line=18'>19</a>\u001b[0m plt\u001b[39m.\u001b[39mshow()\n",
      "File \u001b[0;32m~/miniconda3/envs/sys843_env/lib/python3.12/site-packages/merlion/models/anomaly/base.py:365\u001b[0m, in \u001b[0;36mDetectorBase.plot_anomaly\u001b[0;34m(self, time_series, time_series_prev, filter_scores, plot_time_series_prev, figsize, ax)\u001b[0m\n\u001b[1;32m    363\u001b[0m metric_name \u001b[39m=\u001b[39m time_series\u001b[39m.\u001b[39mnames[\u001b[39m0\u001b[39m]\n\u001b[1;32m    364\u001b[0m title \u001b[39m=\u001b[39m \u001b[39mf\u001b[39m\u001b[39m\"\u001b[39m\u001b[39m{\u001b[39;00m\u001b[39mtype\u001b[39m(\u001b[39mself\u001b[39m)\u001b[39m.\u001b[39m\u001b[39m__name__\u001b[39m\u001b[39m}\u001b[39;00m\u001b[39m: Anomalies in \u001b[39m\u001b[39m{\u001b[39;00mmetric_name\u001b[39m}\u001b[39;00m\u001b[39m\"\u001b[39m\n\u001b[0;32m--> 365\u001b[0m fig \u001b[39m=\u001b[39m \u001b[39mself\u001b[39;49m\u001b[39m.\u001b[39;49mget_figure(\n\u001b[1;32m    366\u001b[0m     time_series\u001b[39m=\u001b[39;49mtime_series,\n\u001b[1;32m    367\u001b[0m     time_series_prev\u001b[39m=\u001b[39;49mtime_series_prev,\n\u001b[1;32m    368\u001b[0m     filter_scores\u001b[39m=\u001b[39;49mfilter_scores,\n\u001b[1;32m    369\u001b[0m     plot_time_series_prev\u001b[39m=\u001b[39;49mplot_time_series_prev,\n\u001b[1;32m    370\u001b[0m )\n\u001b[1;32m    371\u001b[0m \u001b[39mreturn\u001b[39;00m fig\u001b[39m.\u001b[39mplot(title\u001b[39m=\u001b[39mtitle, figsize\u001b[39m=\u001b[39mfigsize, ax\u001b[39m=\u001b[39max)\n",
      "File \u001b[0;32m~/miniconda3/envs/sys843_env/lib/python3.12/site-packages/merlion/models/anomaly/base.py:318\u001b[0m, in \u001b[0;36mDetectorBase.get_figure\u001b[0;34m(self, time_series, time_series_prev, filter_scores, plot_time_series_prev, fig, **kwargs)\u001b[0m\n\u001b[1;32m    314\u001b[0m scores \u001b[39m=\u001b[39m scores\u001b[39m.\u001b[39munivariates[scores\u001b[39m.\u001b[39mnames[\u001b[39m0\u001b[39m]]\n\u001b[1;32m    316\u001b[0m \u001b[39m# Get the severity level associated with each value & convert things to\u001b[39;00m\n\u001b[1;32m    317\u001b[0m \u001b[39m# numpy arrays as well\u001b[39;00m\n\u001b[0;32m--> 318\u001b[0m \u001b[39massert\u001b[39;00m time_series\u001b[39m.\u001b[39mdim \u001b[39m==\u001b[39m \u001b[39m1\u001b[39m, (\n\u001b[1;32m    319\u001b[0m     \u001b[39mf\u001b[39m\u001b[39m\"\u001b[39m\u001b[39mPlotting only supported for univariate time series, but got a\u001b[39m\u001b[39m\"\u001b[39m\n\u001b[1;32m    320\u001b[0m     \u001b[39mf\u001b[39m\u001b[39m\"\u001b[39m\u001b[39mtime series of dimension \u001b[39m\u001b[39m{\u001b[39;00mtime_series\u001b[39m.\u001b[39mdim\u001b[39m}\u001b[39;00m\u001b[39m\"\u001b[39m\n\u001b[1;32m    321\u001b[0m )\n\u001b[1;32m    322\u001b[0m time_series \u001b[39m=\u001b[39m time_series\u001b[39m.\u001b[39munivariates[time_series\u001b[39m.\u001b[39mnames[\u001b[39m0\u001b[39m]]\n\u001b[1;32m    324\u001b[0m \u001b[39mif\u001b[39;00m fig \u001b[39mis\u001b[39;00m \u001b[39mNone\u001b[39;00m:\n",
      "\u001b[0;31mAssertionError\u001b[0m: Plotting only supported for univariate time series, but got atime series of dimension 55"
     ]
    }
   ],
   "source": [
    "from merlion.evaluate.anomaly import TSADMetric\n",
    "\n",
    "labels = model.get_anomaly_label(test_data)\n",
    "precision = TSADMetric.PointAdjustedPrecision.value(ground_truth=test_labels, predict=labels)\n",
    "recall = TSADMetric.PointAdjustedRecall.value(ground_truth=test_labels, predict=labels)\n",
    "f1 = TSADMetric.PointAdjustedF1.value(ground_truth=test_labels, predict=labels)\n",
    "mttd = TSADMetric.MeanTimeToDetect.value(ground_truth=test_labels, predict=labels)\n",
    "print(f\"{type(model).__name__}\")\n",
    "print(f\"Precision: {precision:.4f}\")\n",
    "print(f\"Recall:    {recall:.4f}\")\n",
    "print(f\"F1:        {f1:.4f}\")\n",
    "print(f\"MTTD:      {mttd}\")\n",
    "print()"
   ]
  },
  {
   "cell_type": "markdown",
   "metadata": {},
   "source": [
    "For the purposes of this tutorial, we will be using 3 models:\n",
    "\n",
    "    DefaultDetector (which automatically detects whether the input time series is univariate or multivariate);\n",
    "\n",
    "    IsolationForest (a classic algorithm); and\n",
    "\n",
    "    A DetectorEnsemble which takes the maximum anomaly score returned by either model.\n",
    "\n",
    "Note that while all multivariate anomaly detection models can be used on univariate time series, some Merlion models (e.g. WindStats, ZMS, StatThreshold) are specific to univariate time series. However, the API is identical to that of univariate anomaly detection models."
   ]
  },
  {
   "cell_type": "code",
   "execution_count": 2,
   "metadata": {},
   "outputs": [
    {
     "name": "stdout",
     "output_type": "stream",
     "text": [
      "Training DefaultDetector...\n"
     ]
    },
    {
     "name": "stderr",
     "output_type": "stream",
     "text": [
      "Inferred granularity <Minute>\n"
     ]
    },
    {
     "name": "stdout",
     "output_type": "stream",
     "text": [
      " |========================================| 100.0% Complete, Loss 0.0006\n",
      "Training IsolationForest...\n",
      "Training DetectorEnsemble...\n"
     ]
    },
    {
     "name": "stderr",
     "output_type": "stream",
     "text": [
      "Inferred granularity <Minute>\n"
     ]
    },
    {
     "name": "stdout",
     "output_type": "stream",
     "text": [
      " |========================================| 100.0% Complete, Loss 0.0006\n"
     ]
    }
   ],
   "source": [
    "# We initialize models using the model factory in this tutorial\n",
    "# We manually set the detection threshold to 2 (in standard deviation units) for all models\n",
    "from merlion.models.factory import ModelFactory\n",
    "from merlion.post_process.threshold import AggregateAlarms\n",
    "\n",
    "model1 = ModelFactory.create(\"DefaultDetector\",\n",
    "                             threshold=AggregateAlarms(alm_threshold=2))\n",
    "\n",
    "model2 = ModelFactory.create(\"IsolationForest\",\n",
    "                             threshold=AggregateAlarms(alm_threshold=2))\n",
    "\n",
    "# Here, we create a _max ensemble_ that takes the maximal anomaly score\n",
    "# returned by any individual model (rather than the mean).\n",
    "model3 = ModelFactory.create(\"DetectorEnsemble\", models=[model1, model2],\n",
    "                             threshold=AggregateAlarms(alm_threshold=2),\n",
    "                             combiner={\"name\": \"Max\"})\n",
    "\n",
    "for model in [model1, model2, model3]:\n",
    "    print(f\"Training {type(model).__name__}...\")\n",
    "    train_scores = model.train(train_data)"
   ]
  },
  {
   "cell_type": "markdown",
   "metadata": {},
   "source": [
    "Like univariate models, we may call get_anomaly_label() to get a sequence of post-processed (calibrated and thresholded) training scores.\n",
    "\n",
    "We can then use these to evaluate the model’s performance."
   ]
  },
  {
   "cell_type": "code",
   "execution_count": 3,
   "metadata": {},
   "outputs": [
    {
     "name": "stdout",
     "output_type": "stream",
     "text": [
      "DefaultDetector\n",
      "Precision: 0.9611\n",
      "Recall:    0.8325\n",
      "F1:        0.8922\n",
      "MTTD:      0 days 01:25:12\n",
      "\n",
      "IsolationForest\n",
      "Precision: 0.9638\n",
      "Recall:    0.8192\n",
      "F1:        0.8856\n",
      "MTTD:      0 days 01:40:57\n",
      "\n",
      "DetectorEnsemble\n",
      "Precision: 0.9638\n",
      "Recall:    0.8322\n",
      "F1:        0.8932\n",
      "MTTD:      0 days 01:34:28\n",
      "\n"
     ]
    }
   ],
   "source": [
    "from merlion.evaluate.anomaly import TSADMetric\n",
    "\n",
    "for model in [model1, model2, model3]:\n",
    "    labels = model.get_anomaly_label(test_data)\n",
    "    precision = TSADMetric.PointAdjustedPrecision.value(ground_truth=test_labels, predict=labels)\n",
    "    recall = TSADMetric.PointAdjustedRecall.value(ground_truth=test_labels, predict=labels)\n",
    "    f1 = TSADMetric.PointAdjustedF1.value(ground_truth=test_labels, predict=labels)\n",
    "    mttd = TSADMetric.MeanTimeToDetect.value(ground_truth=test_labels, predict=labels)\n",
    "    print(f\"{type(model).__name__}\")\n",
    "    print(f\"Precision: {precision:.4f}\")\n",
    "    print(f\"Recall:    {recall:.4f}\")\n",
    "    print(f\"F1:        {f1:.4f}\")\n",
    "    print(f\"MTTD:      {mttd}\")\n",
    "    print()"
   ]
  },
  {
   "cell_type": "markdown",
   "metadata": {},
   "source": [
    "We can also use a TSADEvaluator to evaluate a model in a manner that simulates live deployment.\n",
    "\n",
    "Here, we train an initial model on the training data, and we obtain its predictions on the training data using a sliding window of 1 week (cadence=\"1w\").\n",
    "\n",
    "However, we only retrain the model every 4 weeks (retrain_freq=\"4w\")."
   ]
  },
  {
   "cell_type": "code",
   "execution_count": 4,
   "metadata": {},
   "outputs": [
    {
     "name": "stdout",
     "output_type": "stream",
     "text": [
      "DefaultDetector Sliding Window Evaluation\n"
     ]
    },
    {
     "name": "stderr",
     "output_type": "stream",
     "text": [
      "Inferred granularity <Minute>\n"
     ]
    },
    {
     "name": "stdout",
     "output_type": "stream",
     "text": [
      " |========================================| 100.0% Complete, Loss 0.0006\n"
     ]
    },
    {
     "name": "stderr",
     "output_type": "stream",
     "text": [
      "TSADEvaluator:  55%|█████▍    | 2419200/4423680 [00:36<00:30, 65251.04it/s]Inferred granularity <Minute>\n",
      "TSADEvaluator:  55%|█████▍    | 2419200/4423680 [00:50<00:30, 65251.04it/s]"
     ]
    },
    {
     "name": "stdout",
     "output_type": "stream",
     "text": [
      " |========================================| 100.0% Complete, Loss 0.0006\n"
     ]
    },
    {
     "name": "stderr",
     "output_type": "stream",
     "text": [
      "TSADEvaluator: 100%|██████████| 4423680/4423680 [06:16<00:00, 11739.40it/s]\n"
     ]
    },
    {
     "name": "stdout",
     "output_type": "stream",
     "text": [
      "Precision: 0.9537\n",
      "Recall:    0.7741\n",
      "F1:        0.8546\n",
      "MTTD:      0 days 01:39:26\n",
      "\n",
      "IsolationForest Sliding Window Evaluation\n"
     ]
    },
    {
     "name": "stderr",
     "output_type": "stream",
     "text": [
      "TSADEvaluator: 100%|██████████| 4423680/4423680 [00:10<00:00, 429062.53it/s]\n"
     ]
    },
    {
     "name": "stdout",
     "output_type": "stream",
     "text": [
      "Precision: 0.9666\n",
      "Recall:    0.8321\n",
      "F1:        0.8943\n",
      "MTTD:      0 days 01:40:42\n",
      "\n",
      "DetectorEnsemble Sliding Window Evaluation\n"
     ]
    },
    {
     "name": "stderr",
     "output_type": "stream",
     "text": [
      "Inferred granularity <Minute>\n"
     ]
    },
    {
     "name": "stdout",
     "output_type": "stream",
     "text": [
      " |========================================| 100.0% Complete, Loss 0.0006\n"
     ]
    },
    {
     "name": "stderr",
     "output_type": "stream",
     "text": [
      "TSADEvaluator:  55%|█████▍    | 2419200/4423680 [00:43<00:36, 54897.78it/s]Caught an exception while training model 1/2 (DefaultDetector). Model will not be used. Traceback (most recent call last):\n",
      "  File \"/root/miniconda3/envs/sys843_env/lib/python3.12/site-packages/merlion/models/ensemble/anomaly.py\", line 162, in _train\n",
      "    train_scores, valid_scores = TSADEvaluator(model=model, config=eval_cfg).get_predict(\n",
      "                                 ^^^^^^^^^^^^^^^^^^^^^^^^^^^^^^^^^^^^^^^^^^^^^^^^^^^^^^^^\n",
      "  File \"/root/miniconda3/envs/sys843_env/lib/python3.12/site-packages/merlion/evaluate/anomaly.py\", line 443, in get_predict\n",
      "    train_result, result = super().get_predict(\n",
      "                           ^^^^^^^^^^^^^^^^^^^^\n",
      "  File \"/root/miniconda3/envs/sys843_env/lib/python3.12/site-packages/merlion/evaluate/base.py\", line 202, in get_predict\n",
      "    train_result = self._train_model(train_vals, **full_train_kwargs)\n",
      "                   ^^^^^^^^^^^^^^^^^^^^^^^^^^^^^^^^^^^^^^^^^^^^^^^^^^\n",
      "  File \"/root/miniconda3/envs/sys843_env/lib/python3.12/site-packages/merlion/evaluate/base.py\", line 149, in _train_model\n",
      "    return self.model.train(train_vals, **train_kwargs)\n",
      "           ^^^^^^^^^^^^^^^^^^^^^^^^^^^^^^^^^^^^^^^^^^^^\n",
      "  File \"/root/miniconda3/envs/sys843_env/lib/python3.12/site-packages/merlion/models/defaults.py\", line 101, in train\n",
      "    return super().train(\n",
      "           ^^^^^^^^^^^^^^\n",
      "  File \"/root/miniconda3/envs/sys843_env/lib/python3.12/site-packages/merlion/models/anomaly/base.py\", line 199, in train\n",
      "    train_result = call_with_accepted_kwargs(  # For ensembles\n",
      "                   ^^^^^^^^^^^^^^^^^^^^^^^^^^^^^^^^^^^^^^^^^^^\n",
      "  File \"/root/miniconda3/envs/sys843_env/lib/python3.12/site-packages/merlion/utils/misc.py\", line 177, in call_with_accepted_kwargs\n",
      "    return fn(**kwargs)\n",
      "           ^^^^^^^^^^^^\n",
      "  File \"/root/miniconda3/envs/sys843_env/lib/python3.12/site-packages/merlion/models/layers.py\", line 326, in _train\n",
      "    return call_with_accepted_kwargs(self.model._train, train_data=train_data, train_config=train_config, **kwargs)\n",
      "           ^^^^^^^^^^^^^^^^^^^^^^^^^^^^^^^^^^^^^^^^^^^^^^^^^^^^^^^^^^^^^^^^^^^^^^^^^^^^^^^^^^^^^^^^^^^^^^^^^^^^^^^^\n",
      "  File \"/root/miniconda3/envs/sys843_env/lib/python3.12/site-packages/merlion/utils/misc.py\", line 177, in call_with_accepted_kwargs\n",
      "    return fn(**kwargs)\n",
      "           ^^^^^^^^^^^^\n",
      "  File \"/root/miniconda3/envs/sys843_env/lib/python3.12/site-packages/merlion/models/ensemble/anomaly.py\", line 135, in _train\n",
      "    train, valid = self.train_valid_split(train_data, train_config)\n",
      "                   ^^^^^^^^^^^^^^^^^^^^^^^^^^^^^^^^^^^^^^^^^^^^^^^^\n",
      "  File \"/root/miniconda3/envs/sys843_env/lib/python3.12/site-packages/merlion/models/ensemble/base.py\", line 156, in train_valid_split\n",
      "    valid_frac = train_config.valid_frac\n",
      "                 ^^^^^^^^^^^^^^^^^^^^^^^\n",
      "AttributeError: 'dict' object has no attribute 'valid_frac'\n",
      "\n",
      "TSADEvaluator: 100%|██████████| 4423680/4423680 [00:58<00:00, 75839.60it/s] \n"
     ]
    },
    {
     "name": "stdout",
     "output_type": "stream",
     "text": [
      "Precision: 0.9619\n",
      "Recall:    0.8128\n",
      "F1:        0.8811\n",
      "MTTD:      0 days 01:22:36\n",
      "\n"
     ]
    }
   ],
   "source": [
    "from merlion.evaluate.anomaly import TSADEvaluator, TSADEvaluatorConfig\n",
    "for model in [model1, model2, model3]:\n",
    "    print(f\"{type(model).__name__} Sliding Window Evaluation\")\n",
    "    evaluator = TSADEvaluator(model=model, config=TSADEvaluatorConfig(\n",
    "        cadence=\"1w\", retrain_freq=\"4w\"))\n",
    "    train_result, test_pred = evaluator.get_predict(train_vals=train_data, test_vals=test_data)\n",
    "    precision = evaluator.evaluate(ground_truth=test_labels, predict=test_pred,\n",
    "                                   metric=TSADMetric.PointAdjustedPrecision)\n",
    "    recall = evaluator.evaluate(ground_truth=test_labels, predict=test_pred,\n",
    "                                metric=TSADMetric.PointAdjustedRecall)\n",
    "    f1 = evaluator.evaluate(ground_truth=test_labels, predict=test_pred,\n",
    "                            metric=TSADMetric.PointAdjustedF1)\n",
    "    mttd = evaluator.evaluate(ground_truth=test_labels, predict=test_pred,\n",
    "                              metric=TSADMetric.MeanTimeToDetect)\n",
    "    print(f\"Precision: {precision:.4f}\")\n",
    "    print(f\"Recall:    {recall:.4f}\")\n",
    "    print(f\"F1:        {f1:.4f}\")\n",
    "    print(f\"MTTD:      {mttd}\")\n",
    "    print()"
   ]
  }
 ],
 "metadata": {
  "kernelspec": {
   "display_name": "sys843_env",
   "language": "python",
   "name": "python3"
  },
  "language_info": {
   "codemirror_mode": {
    "name": "ipython",
    "version": 3
   },
   "file_extension": ".py",
   "mimetype": "text/x-python",
   "name": "python",
   "nbconvert_exporter": "python",
   "pygments_lexer": "ipython3",
   "version": "3.12.0"
  }
 },
 "nbformat": 4,
 "nbformat_minor": 2
}
